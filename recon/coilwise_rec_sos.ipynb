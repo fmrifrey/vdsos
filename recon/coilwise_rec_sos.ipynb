{
 "cells": [
  {
   "cell_type": "code",
   "execution_count": null,
   "metadata": {},
   "outputs": [
    {
     "name": "stdout",
     "output_type": "stream",
     "text": [
      "CUDA is available\n"
     ]
    },
    {
     "data": {
      "text/plain": [
       "<torch.autograd.grad_mode.no_grad at 0x711018217a70>"
      ]
     },
     "execution_count": 1,
     "metadata": {},
     "output_type": "execute_result"
    }
   ],
   "source": [
    "# import packages\n",
    "import h5py\n",
    "import numpy as np\n",
    "import torch\n",
    "from mirtorch.linear import NuSense, Diff3dgram, NuSenseGram\n",
    "from mirtorch.alg.cg import CG\n",
    "\n",
    "# select device\n",
    "if torch.cuda.is_available():\n",
    "    print('CUDA is available')\n",
    "    device0 = torch.device('cuda:2')\n",
    "else:\n",
    "    print('CUDA is not available')\n",
    "    device0 = torch.device('cpu')\n",
    "    \n",
    "torch.no_grad()"
   ]
  },
  {
   "cell_type": "code",
   "execution_count": null,
   "metadata": {},
   "outputs": [],
   "source": [
    "# load in the data\n",
    "fname = '/home/djfrey/data/acr_lps_sos_test/sos_data/data.h5'\n",
    "\n",
    "with h5py.File(fname, 'r') as h5_file:\n",
    "    kdata = h5_file['kdata/real'][:] + 1j * h5_file['kdata/imag'][:] # kspace data\n",
    "    ktraj = h5_file['ktraj'][:] # kspace trajectory (1/cm)\n",
    "    fov = h5_file['seq_args/fov'][0][0] # fov (cm)\n",
    "    N = int(h5_file['seq_args/N'][0][0]) # 3D matrix size\n",
    "    nprj = int(h5_file['seq_args/nprj'][0][0]) # number of projections\n",
    "    nint = int(h5_file['seq_args/nint'][0][0]) # number of interleaves\n",
    "ncoil = kdata.shape[0] # number of coils\n",
    "ndat = kdata.shape[3] # number of samples per projection"
   ]
  },
  {
   "cell_type": "code",
   "execution_count": null,
   "metadata": {},
   "outputs": [],
   "source": [
    "# create trajectory (in radians) and data matrix\n",
    "b = torch.tensor(kdata).reshape(ncoil, 1, nint*nprj*ndat)\n",
    "om = 2*torch.pi * fov/N * torch.tensor(ktraj.transpose(2,0,1,3)).reshape(3, nint*nprj*ndat)"
   ]
  },
  {
   "cell_type": "code",
   "execution_count": null,
   "metadata": {},
   "outputs": [],
   "source": [
    "# loop through coils and calculate AHb\n",
    "A = NuSense(torch.ones(1,1,N,N,N).to(b.dtype).to(device0), om.to(device0))\n",
    "AHb = torch.zeros(ncoil,1,N,N,N).to(b.dtype)\n",
    "for c in range(ncoil):\n",
    "    bc = b[c:(c+1),:,:].to(device0)\n",
    "    AHb[c,0] = (A.H * bc).to('cpu').squeeze(0).squeeze(0)\n",
    "\n",
    "# offload the GPU memory\n",
    "del A, bc\n",
    "torch.cuda.empty_cache()"
   ]
  },
  {
   "cell_type": "code",
   "execution_count": null,
   "metadata": {},
   "outputs": [],
   "source": [
    "# create the forward model with batch dimension over coils\n",
    "AHA = NuSenseGram(torch.ones(ncoil,1,N,N,N).to(b.dtype).to(device0), om.to(device0))\n",
    "\n",
    "# add L2 roughness penalty\n",
    "lam = 0.01\n",
    "THT = Diff3dgram(AHA.size_in)\n",
    "AHA_tikh = AHA + lam*THT\n",
    "\n",
    "# create the solver\n",
    "solv = CG(AHA, max_iter=30)\n",
    "\n",
    "# offload the GPU memory\n",
    "del AHA, THT, AHA_tikh\n",
    "torch.cuda.empty_cache()"
   ]
  },
  {
   "cell_type": "code",
   "execution_count": null,
   "metadata": {},
   "outputs": [],
   "source": [
    "# solve with CG\n",
    "x0 = torch.zeros(ncoil,1,N,N,N).to(b.dtype)\n",
    "x = solv.run(x0.to(device0), AHb.to(device0))"
   ]
  },
  {
   "cell_type": "code",
   "execution_count": null,
   "metadata": {},
   "outputs": [
    {
     "ename": "NameError",
     "evalue": "name 'x' is not defined",
     "output_type": "error",
     "traceback": [
      "\u001b[0;31m---------------------------------------------------------------------------\u001b[0m",
      "\u001b[0;31mNameError\u001b[0m                                 Traceback (most recent call last)",
      "Cell \u001b[0;32mIn[1], line 2\u001b[0m\n\u001b[1;32m      1\u001b[0m \u001b[38;5;28;01mfrom\u001b[39;00m \u001b[38;5;21;01mvis3d\u001b[39;00m \u001b[38;5;28;01mimport\u001b[39;00m im\n\u001b[0;32m----> 2\u001b[0m x_rms \u001b[38;5;241m=\u001b[39m x\u001b[38;5;241m.\u001b[39mabs()\u001b[38;5;241m.\u001b[39mpow(\u001b[38;5;241m2\u001b[39m)\u001b[38;5;241m.\u001b[39msum(\u001b[38;5;241m0\u001b[39m)\u001b[38;5;241m.\u001b[39msqrt()\u001b[38;5;241m.\u001b[39mcpu()\u001b[38;5;241m.\u001b[39mnumpy()\n\u001b[1;32m      3\u001b[0m im(x_rms[\u001b[38;5;241m0\u001b[39m])\n\u001b[1;32m      4\u001b[0m im(x_rms[\u001b[38;5;241m0\u001b[39m],\u001b[38;5;28mtype\u001b[39m\u001b[38;5;241m=\u001b[39m\u001b[38;5;124m'\u001b[39m\u001b[38;5;124mmid3\u001b[39m\u001b[38;5;124m'\u001b[39m)\n",
      "\u001b[0;31mNameError\u001b[0m: name 'x' is not defined"
     ]
    }
   ],
   "source": [
    "from vis3d import im\n",
    "x_rms = x.abs().pow(2).sum(0).sqrt().cpu().numpy()\n",
    "im(x_rms[0])\n",
    "im(x_rms[0],viewtype='mid3')"
   ]
  }
 ],
 "metadata": {
  "kernelspec": {
   "display_name": "umlps_recon_env",
   "language": "python",
   "name": "python3"
  },
  "language_info": {
   "codemirror_mode": {
    "name": "ipython",
    "version": 3
   },
   "file_extension": ".py",
   "mimetype": "text/x-python",
   "name": "python",
   "nbconvert_exporter": "python",
   "pygments_lexer": "ipython3",
   "version": "3.12.9"
  }
 },
 "nbformat": 4,
 "nbformat_minor": 2
}
